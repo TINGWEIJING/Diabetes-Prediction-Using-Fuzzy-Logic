{
 "cells": [
  {
   "cell_type": "code",
   "execution_count": null,
   "metadata": {},
   "outputs": [],
   "source": [
    "import skfuzzy as fuzz\n",
    "import numpy as np\n",
    "import matplotlib.pyplot as plt"
   ]
  },
  {
   "cell_type": "code",
   "execution_count": null,
   "metadata": {},
   "outputs": [],
   "source": [
    "pregnancy_universe = np.arange(0, 18, 1)\n",
    "blood_sugar_level_universe = np.arange(0, 200, 1)\n",
    "diastolic_blood_pressure_universe = np.arange(0, 123, 1)\n",
    "bmi_universe = np.arange(0, 67.2, 0.1)\n",
    "\n",
    "# Membership functions\n",
    "pregnancy_normal = fuzz.trapmf(pregnancy_universe, [-10, 0, 5, 17]) # common sense\n",
    "pregnancy_high = fuzz.trapmf(pregnancy_universe, [4, 9, 18, 18]) # common sense\n",
    "blood_sugar_level_normal = fuzz.trapmf(blood_sugar_level_universe, [60, 80, 100, 110]) # Refer image in Whatsapp\n",
    "blood_sugar_level_high = fuzz.trapmf(blood_sugar_level_universe, [0, 95, 200, 200]) # Refer image in Whatsapp\n",
    "blood_sugar_level_very_high = fuzz.trapmf(blood_sugar_level_universe, [120, 125, 200, 200]) # Refer image in Whatsapp\n",
    "\n"
   ]
  },
  {
   "cell_type": "markdown",
   "metadata": {},
   "source": []
  },
  {
   "attachments": {},
   "cell_type": "markdown",
   "metadata": {},
   "source": [
    "Based on: https://www.kaggle.com/datasets/uciml/pima-indians-diabetes-database\n",
    "\n",
    "- Blood sugar level (glucose, 0-199 universe)\n",
    "- BMI (18.5 to 24.9 is normal, <18.5 is underweight, >25 is overweight)\n",
    "- Pregnancy number (Trapezoidal, where 0-5 is 1, 5 onwards to 17 is decreasing)\n",
    "- Blood pressure (normal: less than 120/80 mmHg)"
   ]
  }
 ],
 "metadata": {
  "kernelspec": {
   "display_name": "venv",
   "language": "python",
   "name": "python3"
  },
  "language_info": {
   "codemirror_mode": {
    "name": "ipython",
    "version": 3
   },
   "file_extension": ".py",
   "mimetype": "text/x-python",
   "name": "python",
   "nbconvert_exporter": "python",
   "pygments_lexer": "ipython3",
   "version": "3.8.10 (default, Nov 14 2022, 12:59:47) \n[GCC 9.4.0]"
  },
  "orig_nbformat": 4,
  "vscode": {
   "interpreter": {
    "hash": "1698fdc2129231937dd06de33e6da8662a19662a6dfca574786792692ed06e2b"
   }
  }
 },
 "nbformat": 4,
 "nbformat_minor": 2
}
